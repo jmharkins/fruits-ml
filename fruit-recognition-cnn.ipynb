{
 "cells": [
  {
   "cell_type": "markdown",
   "metadata": {},
   "source": [
    "# Using a Deep Convolutional Neural Network to Recognize Fruits"
   ]
  },
  {
   "cell_type": "code",
   "execution_count": 11,
   "metadata": {},
   "outputs": [],
   "source": [
    "import cv2\n",
    "import numpy as np\n",
    "from keras.models import Sequential\n",
    "from keras.layers import Dense, Conv2D, MaxPooling2D, Dropout, Flatten\n",
    "import os\n",
    "from keras.utils import to_categorical"
   ]
  },
  {
   "cell_type": "code",
   "execution_count": 4,
   "metadata": {},
   "outputs": [
    {
     "name": "stdout",
     "output_type": "stream",
     "text": [
      "Populating the interactive namespace from numpy and matplotlib\n"
     ]
    }
   ],
   "source": [
    "%pylab inline"
   ]
  },
  {
   "cell_type": "markdown",
   "metadata": {},
   "source": [
    "### Loading Data\n",
    "I'm using the [fruits360 dataset](https://www.kaggle.com/moltean/fruits) from kaggle. I only read in ten random fruits at a time in order to spare my wimpy computer."
   ]
  },
  {
   "cell_type": "code",
   "execution_count": 5,
   "metadata": {},
   "outputs": [],
   "source": [
    "# pick 10 random fruits based on their containing folders in the training data\n",
    "n_fruits = 10 \n",
    "prediction_fruits = np.random.choice(os.listdir('fruits-360/Training/'), n_fruits)"
   ]
  },
  {
   "cell_type": "code",
   "execution_count": 7,
   "metadata": {},
   "outputs": [],
   "source": [
    "# compile the file paths to all of the training/testing images for each type of fruit\n",
    "train_img_urls = []\n",
    "test_img_urls = []\n",
    "train_labels = []\n",
    "test_labels = []\n",
    "train_prefix = 'fruits-360/Training/%s/'\n",
    "test_prefix = 'fruits-360/Test/%s/'\n",
    "for i in prediction_fruits:\n",
    "    train_fruit_urls = [(train_prefix % i) + j for j in os.listdir(train_prefix % i)]\n",
    "    test_fruit_urls = [(test_prefix % i) + j for j in os.listdir(test_prefix % i)]\n",
    "    train_fruit_labels = [i] * len(train_fruit_urls)\n",
    "    test_fruit_labels = [i] * len(test_fruit_urls)\n",
    "    train_img_urls += train_fruit_urls \n",
    "    test_img_urls += test_fruit_urls \n",
    "    # collect the true labels (fruit name) for each training/testing sample\n",
    "    train_labels += train_fruit_labels\n",
    "    test_labels += test_fruit_labels"
   ]
  },
  {
   "cell_type": "code",
   "execution_count": 8,
   "metadata": {},
   "outputs": [],
   "source": [
    "# read in the images as BGR (OpenCV does this instead of RGB for some reason) data \n",
    "train_images = np.stack([cv2.imread(i, 1) for i in train_img_urls])\n",
    "test_images = np.stack([cv2.imread(i, 1) for i in test_img_urls])"
   ]
  },
  {
   "cell_type": "markdown",
   "metadata": {},
   "source": [
    "Images are of size 100 x 100"
   ]
  },
  {
   "cell_type": "code",
   "execution_count": 9,
   "metadata": {},
   "outputs": [
    {
     "name": "stdout",
     "output_type": "stream",
     "text": [
      "(4882, 100, 100, 3)\n",
      "(1644, 100, 100, 3)\n"
     ]
    }
   ],
   "source": [
    "print(train_images.shape)\n",
    "print(test_images.shape)"
   ]
  },
  {
   "cell_type": "markdown",
   "metadata": {},
   "source": [
    "### Data Setup"
   ]
  },
  {
   "cell_type": "markdown",
   "metadata": {},
   "source": [
    "Map the fruit names to a one-hot encoding"
   ]
  },
  {
   "cell_type": "code",
   "execution_count": 19,
   "metadata": {},
   "outputs": [],
   "source": [
    "label_mapping = {e:i for i, e in enumerate(np.unique(test_labels))}"
   ]
  },
  {
   "cell_type": "code",
   "execution_count": 21,
   "metadata": {},
   "outputs": [
    {
     "data": {
      "text/plain": [
       "{'Guava': 0,\n",
       " 'Lemon Meyer': 1,\n",
       " 'Limes': 2,\n",
       " 'Peach Flat': 3,\n",
       " 'Physalis': 4,\n",
       " 'Tamarillo': 5,\n",
       " 'Tangelo': 6,\n",
       " 'Tomato 4': 7}"
      ]
     },
     "execution_count": 21,
     "metadata": {},
     "output_type": "execute_result"
    }
   ],
   "source": [
    "label_mapping"
   ]
  },
  {
   "cell_type": "code",
   "execution_count": 23,
   "metadata": {},
   "outputs": [],
   "source": [
    "train_int_labels = np.vectorize(label_mapping.get)(np.array(train_labels))\n",
    "test_int_labels = np.vectorize(label_mapping.get)(np.array(test_labels))"
   ]
  },
  {
   "cell_type": "code",
   "execution_count": 26,
   "metadata": {},
   "outputs": [],
   "source": [
    "train_one_hot_labels = to_categorical(train_int_labels, num_classes=n_fruits)\n",
    "test_one_hot_labels = to_categorical(test_int_labels, num_classes=n_fruits)"
   ]
  },
  {
   "cell_type": "markdown",
   "metadata": {},
   "source": [
    "### Model Setup\n",
    "I used Keras to make a Convolutional Neural Network with the following structure:\n",
    "\n",
    "100 x 100 x 3 image\n",
    "=>\n"
   ]
  },
  {
   "cell_type": "code",
   "execution_count": 30,
   "metadata": {},
   "outputs": [],
   "source": [
    "batch_size = 100"
   ]
  },
  {
   "cell_type": "code",
   "execution_count": 57,
   "metadata": {},
   "outputs": [],
   "source": [
    "model = Sequential([\n",
    "    Conv2D(filters=32, kernel_size=(3,3), strides=(2,2), padding='same', activation='relu', input_shape=train_images.shape[1:]),\n",
    "    Conv2D(filters=32, kernel_size=(3,3), strides=(2,2), activation='relu'),\n",
    "\n",
    "    MaxPooling2D(pool_size=(2, 2)),\n",
    "    Dropout(0.25),\n",
    "    \n",
    "    \n",
    "    Conv2D(64, (3, 3), padding='same', activation='relu'),\n",
    "    Conv2D(64, (3, 3), activation='relu'),\n",
    "    MaxPooling2D(pool_size=(2, 2)),   \n",
    "    Dropout(0.25),\n",
    "    \n",
    "    Conv2D(filters=16, kernel_size=(3,3), padding='same', activation='relu'),\n",
    "    Conv2D(filters=16, kernel_size=(3,3), activation='relu'),\n",
    "    MaxPooling2D(pool_size=(2, 2)),\n",
    "    Dropout(0.25),\n",
    "    \n",
    "    Flatten(),\n",
    "    Dense(512, activation='relu'),\n",
    "    Dropout(0.5),\n",
    "    Dense(n_fruits, activation='softmax')    \n",
    "\n",
    "])"
   ]
  },
  {
   "cell_type": "code",
   "execution_count": 58,
   "metadata": {},
   "outputs": [
    {
     "name": "stdout",
     "output_type": "stream",
     "text": [
      "_________________________________________________________________\n",
      "Layer (type)                 Output Shape              Param #   \n",
      "=================================================================\n",
      "conv2d_46 (Conv2D)           (None, 50, 50, 32)        896       \n",
      "_________________________________________________________________\n",
      "conv2d_47 (Conv2D)           (None, 24, 24, 32)        9248      \n",
      "_________________________________________________________________\n",
      "max_pooling2d_29 (MaxPooling (None, 12, 12, 32)        0         \n",
      "_________________________________________________________________\n",
      "dropout_40 (Dropout)         (None, 12, 12, 32)        0         \n",
      "_________________________________________________________________\n",
      "conv2d_48 (Conv2D)           (None, 12, 12, 64)        18496     \n",
      "_________________________________________________________________\n",
      "conv2d_49 (Conv2D)           (None, 10, 10, 64)        36928     \n",
      "_________________________________________________________________\n",
      "max_pooling2d_30 (MaxPooling (None, 5, 5, 64)          0         \n",
      "_________________________________________________________________\n",
      "dropout_41 (Dropout)         (None, 5, 5, 64)          0         \n",
      "_________________________________________________________________\n",
      "conv2d_50 (Conv2D)           (None, 5, 5, 16)          9232      \n",
      "_________________________________________________________________\n",
      "conv2d_51 (Conv2D)           (None, 3, 3, 16)          2320      \n",
      "_________________________________________________________________\n",
      "max_pooling2d_31 (MaxPooling (None, 1, 1, 16)          0         \n",
      "_________________________________________________________________\n",
      "dropout_42 (Dropout)         (None, 1, 1, 16)          0         \n",
      "_________________________________________________________________\n",
      "flatten_12 (Flatten)         (None, 16)                0         \n",
      "_________________________________________________________________\n",
      "dense_23 (Dense)             (None, 512)               8704      \n",
      "_________________________________________________________________\n",
      "dropout_43 (Dropout)         (None, 512)               0         \n",
      "_________________________________________________________________\n",
      "dense_24 (Dense)             (None, 10)                5130      \n",
      "=================================================================\n",
      "Total params: 90,954\n",
      "Trainable params: 90,954\n",
      "Non-trainable params: 0\n",
      "_________________________________________________________________\n"
     ]
    }
   ],
   "source": [
    "model.summary()"
   ]
  },
  {
   "cell_type": "code",
   "execution_count": 59,
   "metadata": {},
   "outputs": [],
   "source": [
    "model.compile(optimizer='adam',\n",
    "              loss='categorical_crossentropy',\n",
    "              metrics=['accuracy'])"
   ]
  },
  {
   "cell_type": "code",
   "execution_count": 60,
   "metadata": {},
   "outputs": [
    {
     "name": "stdout",
     "output_type": "stream",
     "text": [
      "Epoch 1/10\n",
      "4882/4882 [==============================] - 243s 50ms/step - loss: 2.1450 - acc: 0.2796\n",
      "Epoch 2/10\n",
      "4882/4882 [==============================] - 236s 48ms/step - loss: 1.1134 - acc: 0.5686\n",
      "Epoch 3/10\n",
      "4882/4882 [==============================] - 234s 48ms/step - loss: 0.7807 - acc: 0.6911\n",
      "Epoch 4/10\n",
      "4882/4882 [==============================] - 235s 48ms/step - loss: 0.6133 - acc: 0.7458\n",
      "Epoch 5/10\n",
      "4882/4882 [==============================] - 234s 48ms/step - loss: 0.4121 - acc: 0.8376\n",
      "Epoch 6/10\n",
      "4882/4882 [==============================] - 232s 47ms/step - loss: 0.3422 - acc: 0.8677\n",
      "Epoch 7/10\n",
      "4882/4882 [==============================] - 230s 47ms/step - loss: 0.2814 - acc: 0.8896\n",
      "Epoch 8/10\n",
      "4882/4882 [==============================] - 231s 47ms/step - loss: 0.2860 - acc: 0.8865\n",
      "Epoch 9/10\n",
      "4882/4882 [==============================] - 231s 47ms/step - loss: 0.2264 - acc: 0.9101\n",
      "Epoch 10/10\n",
      "4882/4882 [==============================] - 232s 48ms/step - loss: 0.1983 - acc: 0.9273\n",
      "1644/1644 [==============================] - 26s 16ms/step\n"
     ]
    }
   ],
   "source": [
    "model.fit(train_images, train_one_hot_labels, epochs=10, batch_size=75)\n",
    "score = model.evaluate(test_images, test_one_hot_labels, batch_size=128)"
   ]
  },
  {
   "cell_type": "code",
   "execution_count": 61,
   "metadata": {},
   "outputs": [
    {
     "data": {
      "text/plain": [
       "[0.07113291011030452, 0.9927007299270073]"
      ]
     },
     "execution_count": 61,
     "metadata": {},
     "output_type": "execute_result"
    }
   ],
   "source": [
    "score"
   ]
  },
  {
   "cell_type": "code",
   "execution_count": 118,
   "metadata": {},
   "outputs": [
    {
     "data": {
      "text/plain": [
       "array([[0., 0., 0., 0., 0., 1., 0., 0., 0., 0.]], dtype=float32)"
      ]
     },
     "execution_count": 118,
     "metadata": {},
     "output_type": "execute_result"
    }
   ],
   "source": [
    "np.round(model.predict(test_images[5:6],))"
   ]
  },
  {
   "cell_type": "code",
   "execution_count": 74,
   "metadata": {},
   "outputs": [
    {
     "data": {
      "text/plain": [
       "{'Guava': 0,\n",
       " 'Lemon Meyer': 1,\n",
       " 'Limes': 2,\n",
       " 'Peach Flat': 3,\n",
       " 'Physalis': 4,\n",
       " 'Tamarillo': 5,\n",
       " 'Tangelo': 6,\n",
       " 'Tomato 4': 7}"
      ]
     },
     "execution_count": 74,
     "metadata": {},
     "output_type": "execute_result"
    }
   ],
   "source": [
    "label_mapping"
   ]
  },
  {
   "cell_type": "code",
   "execution_count": 119,
   "metadata": {},
   "outputs": [
    {
     "data": {
      "text/plain": [
       "<matplotlib.image.AxesImage at 0xb53a3d2b0>"
      ]
     },
     "execution_count": 119,
     "metadata": {},
     "output_type": "execute_result"
    },
    {
     "data": {
      "image/png": "[encoded data removed]",
      "text/plain": [
       "<Figure size 432x288 with 1 Axes>"
      ]
     },
     "metadata": {
      "needs_background": "light"
     },
     "output_type": "display_data"
    }
   ],
   "source": [
    "plt.imshow(test_images[5][:,:,[2,1,0]])"
   ]
  },
  {
   "cell_type": "code",
   "execution_count": 107,
   "metadata": {},
   "outputs": [],
   "source": [
    "test_img = cv2.imread('fruits-360/Training/Apple Braeburn/100_100.jpg', 1)"
   ]
  },
  {
   "cell_type": "code",
   "execution_count": 108,
   "metadata": {},
   "outputs": [
    {
     "data": {
      "text/plain": [
       "<matplotlib.image.AxesImage at 0xb53352cc0>"
      ]
     },
     "execution_count": 108,
     "metadata": {},
     "output_type": "execute_result"
    },
    {
     "data": {
      "image/png": "[encoded data removed]",
      "text/plain": [
       "<Figure size 432x288 with 1 Axes>"
      ]
     },
     "metadata": {
      "needs_background": "light"
     },
     "output_type": "display_data"
    }
   ],
   "source": [
    "plt.imshow(test_img[:,:,[2,1,0]])"
   ]
  },
  {
   "cell_type": "code",
   "execution_count": 125,
   "metadata": {},
   "outputs": [],
   "source": [
    "model.save('deep-cnn-fruits.h5')"
   ]
  }
 ],
 "metadata": {
  "kernelspec": {
   "display_name": "Python 3",
   "language": "python",
   "name": "python3"
  },
  "language_info": {
   "codemirror_mode": {
    "name": "ipython",
    "version": 3
   },
   "file_extension": ".py",
   "mimetype": "text/x-python",
   "name": "python",
   "nbconvert_exporter": "python",
   "pygments_lexer": "ipython3",
   "version": "3.6.6"
  }
 },
 "nbformat": 4,
 "nbformat_minor": 2
}
